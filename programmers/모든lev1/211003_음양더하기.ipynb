{
 "cells": [
  {
   "cell_type": "markdown",
   "metadata": {},
   "source": [
    "어떤 정수들이 있습니다. 이 정수들의 절댓값을 차례대로 담은 정수 배열 absolutes와 이 정수들의 부호를 차례대로 담은 불리언 배열 signs가 매개변수로 주어집니다. 실제 정수들의 합을 구하여 return 하도록 solution 함수를 완성해주세요."
   ]
  },
  {
   "cell_type": "code",
   "execution_count": 31,
   "metadata": {},
   "outputs": [],
   "source": [
    "absolutes =[1,2,3]\n",
    "signs = [False,False,True]"
   ]
  },
  {
   "cell_type": "code",
   "execution_count": 37,
   "metadata": {},
   "outputs": [],
   "source": [
    "def my_solution(absolutes, signs):\n",
    "    signs_str = ['+' if i == True else '-' for i in signs  ]\n",
    "    absolutes = list(map(str, absolutes))\n",
    "    answer = 0\n",
    "    for i in zip(signs_str, absolutes):\n",
    "        result_str = int(i[0] + i[1])\n",
    "        answer += result_str\n",
    "    return answer"
   ]
  },
  {
   "cell_type": "code",
   "execution_count": 40,
   "metadata": {},
   "outputs": [
    {
     "data": {
      "text/plain": [
       "True"
      ]
     },
     "execution_count": 40,
     "metadata": {},
     "output_type": "execute_result"
    }
   ],
   "source": [
    "True == 1"
   ]
  },
  {
   "cell_type": "code",
   "execution_count": 41,
   "metadata": {},
   "outputs": [],
   "source": [
    "# 다른사람 의 코드\n",
    "\n",
    "# 1. True는 1 이고 FALSE는 0이므로 굳이 음수 / 양수 바꿀필요없이 if True == 양수로 변환 해주면 된다.\n",
    "# 2. 굳이 값을 더하는 것으로 할 필요없이 list sum을 해주면 된다. \n",
    "def solution(absolutes, signs):\n",
    "    return sum(absolutes if sign else -absolutes for absolutes, sign in zip(absolutes, signs))"
   ]
  }
 ],
 "metadata": {
  "kernelspec": {
   "display_name": "Python 3",
   "language": "python",
   "name": "python3"
  },
  "language_info": {
   "codemirror_mode": {
    "name": "ipython",
    "version": 3
   },
   "file_extension": ".py",
   "mimetype": "text/x-python",
   "name": "python",
   "nbconvert_exporter": "python",
   "pygments_lexer": "ipython3",
   "version": "3.7.6"
  }
 },
 "nbformat": 4,
 "nbformat_minor": 4
}
