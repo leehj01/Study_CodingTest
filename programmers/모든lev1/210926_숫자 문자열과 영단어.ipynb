{
 "cells": [
  {
   "cell_type": "markdown",
   "metadata": {},
   "source": [
    "네오와 프로도가 숫자놀이를 하고 있습니다. 네오가 프로도에게 숫자를 건넬 때 일부 자릿수를 영단어로 바꾼 카드를 건네주면 프로도는 원래 숫자를 찾는 게임입니다.\n",
    "\n",
    "다음은 숫자의 일부 자릿수를 영단어로 바꾸는 예시입니다.\n",
    "\n",
    "1478 → \"one4seveneight\"\n",
    "234567 → \"23four5six7\"\n",
    "10203 → \"1zerotwozero3\"\n",
    "이렇게 숫자의 일부 자릿수가 영단어로 바뀌어졌거나, 혹은 바뀌지 않고 그대로인 문자열 s가 매개변수로 주어집니다. s가 의미하는 원래 숫자를 return 하도록 solution 함수를 완성해주세요."
   ]
  },
  {
   "cell_type": "code",
   "execution_count": 72,
   "metadata": {},
   "outputs": [],
   "source": [
    "# 내가 푼 풀이\n",
    "def solution(s):\n",
    "    num_english = ['zero', 'one', 'two', 'three','four', 'five', 'six', 'seven', 'eight', 'nine']\n",
    "    number = ['0','1','2','3','4','5','6','7','8','9']\n",
    "    char_str, num_str = '', ''\n",
    "    \n",
    "    for i in s:\n",
    "        char_str += i\n",
    "\n",
    "        if char_str in num_english:\n",
    "            num = [i for i, v in enumerate(num_english) if v == char_str][0]\n",
    "            num_str += str(num)\n",
    "            char_str = ''\n",
    "\n",
    "        if i in number:\n",
    "            num_str += i\n",
    "            char_str = ''\n",
    "            \n",
    "       \n",
    "    return int(''.join(num_str))\n",
    "    \n",
    "    "
   ]
  },
  {
   "cell_type": "code",
   "execution_count": 73,
   "metadata": {},
   "outputs": [
    {
     "data": {
      "text/plain": [
       "234567"
      ]
     },
     "execution_count": 73,
     "metadata": {},
     "output_type": "execute_result"
    }
   ],
   "source": [
    "s = \"23four5six7\"\n",
    "solution(s)"
   ]
  },
  {
   "cell_type": "code",
   "execution_count": 77,
   "metadata": {},
   "outputs": [],
   "source": [
    "# 딕셔너리를 통해서 값을 받음 \n",
    "num_dic = {\"zero\":\"0\", \"one\":\"1\", \"two\":\"2\", \"three\":\"3\", \"four\":\"4\", \"five\":\"5\", \"six\":\"6\", \"seven\":\"7\", \"eight\":\"8\", \"nine\":\"9\"}\n",
    "\n",
    "def solution(s):\n",
    "    answer = s\n",
    "    for key, value in num_dic.items():\n",
    "        # 헐이다.. 그냥 replace 를 하면 그 글자에 해당하는 아이를 원하는 값으로 바꿔준다. \n",
    "        answer = answer.replace(key, value)\n",
    "    return int(answer)\n"
   ]
  }
 ],
 "metadata": {
  "kernelspec": {
   "display_name": "Python 3",
   "language": "python",
   "name": "python3"
  },
  "language_info": {
   "codemirror_mode": {
    "name": "ipython",
    "version": 3
   },
   "file_extension": ".py",
   "mimetype": "text/x-python",
   "name": "python",
   "nbconvert_exporter": "python",
   "pygments_lexer": "ipython3",
   "version": "3.8.5"
  }
 },
 "nbformat": 4,
 "nbformat_minor": 4
}
