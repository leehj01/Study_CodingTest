{
 "cells": [
  {
   "cell_type": "markdown",
   "metadata": {},
   "source": [
    "민우가 구매한 로또 번호를 담은 배열 lottos, 당첨 번호를 담은 배열 win_nums가 매개변수로 주어집니다. 이때, 당첨 가능한 최고 순위와 최저 순위를 차례대로 배열에 담아서 return 하도록 solution 함수를 완성해주세요."
   ]
  },
  {
   "cell_type": "code",
   "execution_count": 91,
   "metadata": {},
   "outputs": [],
   "source": [
    "lottos = [44, 1 ,0, 0, 31, 25]\n",
    "win_nums = [31, 10, 45, 1, 6, 19]"
   ]
  },
  {
   "cell_type": "code",
   "execution_count": 94,
   "metadata": {},
   "outputs": [],
   "source": [
    "lottos = [0, 0, 0, 0, 0, 0]\n",
    "win_nums = [38, 19, 20, 40, 15, 25]"
   ]
  },
  {
   "cell_type": "code",
   "execution_count": 97,
   "metadata": {},
   "outputs": [],
   "source": [
    "lottos = [45, 4, 35, 20, 3, 9]\n",
    "win_nums = [20, 9, 3, 45, 4, 35]"
   ]
  },
  {
   "cell_type": "code",
   "execution_count": 100,
   "metadata": {},
   "outputs": [],
   "source": [
    "# 나의 정답\n",
    "def solution(lottos, win_nums):\n",
    "    win = {6:1,\n",
    "      5:2,\n",
    "      4:3,\n",
    "      3:4,\n",
    "      2:5,\n",
    "       1:6,\n",
    "       0:6\n",
    "      }\n",
    "    un_cnt = 0\n",
    "    for i in lottos :\n",
    "        if i == 0 :\n",
    "            un_cnt += 1 \n",
    "\n",
    "    win_cnt = len(set(win_nums) & set(lottos))\n",
    "    final_win_cnt = win_cnt + un_cnt\n",
    "\n",
    "    answer  = [win[final_win_cnt] , win[win_cnt]]\n",
    "    return answer"
   ]
  },
  {
   "cell_type": "code",
   "execution_count": 101,
   "metadata": {},
   "outputs": [
    {
     "data": {
      "text/plain": [
       "[1, 1]"
      ]
     },
     "execution_count": 101,
     "metadata": {},
     "output_type": "execute_result"
    }
   ],
   "source": [
    "solution(lottos, win_nums)"
   ]
  },
  {
   "cell_type": "code",
   "execution_count": 102,
   "metadata": {},
   "outputs": [],
   "source": [
    "# 잘 푼 정답\n",
    "def solution(lottos, win_nums):\n",
    "\n",
    "    # 인덱스를 이용해서 푼것 - 처음에 나도 생각한 방법인데 6이 두개여서 멈췄는데 그냥 이렇게 두면 될것\n",
    "    rank=[6,6,5,4,3,2,1]\n",
    "\n",
    "    # 0 에 대한 카운트를 쓰면 되므로 굳이 if 문 돌릴 필요없이 count() 쓰면 됨 \n",
    "    cnt_0 = lottos.count(0)\n",
    "    \n",
    "    # 이부분은 내가 set 한게 더 효율 적인 것으로 보임 \n",
    "    ans = 0\n",
    "    for x in win_nums:\n",
    "        if x in lottos:\n",
    "            ans += 1\n",
    "    return rank[cnt_0 + ans],rank[ans]"
   ]
  }
 ],
 "metadata": {
  "kernelspec": {
   "display_name": "Python 3",
   "language": "python",
   "name": "python3"
  },
  "language_info": {
   "codemirror_mode": {
    "name": "ipython",
    "version": 3
   },
   "file_extension": ".py",
   "mimetype": "text/x-python",
   "name": "python",
   "nbconvert_exporter": "python",
   "pygments_lexer": "ipython3",
   "version": "3.8.5"
  }
 },
 "nbformat": 4,
 "nbformat_minor": 4
}
