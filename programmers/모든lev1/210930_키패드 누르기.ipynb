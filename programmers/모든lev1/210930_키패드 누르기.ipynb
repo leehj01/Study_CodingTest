{
 "cells": [
  {
   "cell_type": "markdown",
   "metadata": {},
   "source": [
    "#%% md\n",
    "이 전화 키패드에서 왼손과 오른손의 엄지손가락만을 이용해서 숫자만을 입력하려고 합니다.\n",
    "맨 처음 왼손 엄지손가락은 * 키패드에 오른손 엄지손가락은 # 키패드 위치에서 시작하며, 엄지손가락을 사용하는 규칙은 다음과 같습니다.\n",
    "\n",
    "엄지손가락은 상하좌우 4가지 방향으로만 이동할 수 있으며 키패드 이동 한 칸은 거리로 1에 해당합니다.\n",
    "왼쪽 열의 3개의 숫자 1, 4, 7을 입력할 때는 왼손 엄지손가락을 사용합니다.\n",
    "오른쪽 열의 3개의 숫자 3, 6, 9를 입력할 때는 오른손 엄지손가락을 사용합니다.\n",
    "가운데 열의 4개의 숫자 2, 5, 8, 0을 입력할 때는 두 엄지손가락의 현재 키패드의 위치에서 더 가까운 엄지손가락을 사용합니다.\n",
    "4-1. 만약 두 엄지손가락의 거리가 같다면, 오른손잡이는 오른손 엄지손가락, 왼손잡이는 왼손 엄지손가락을 사용합니다.\n",
    "순서대로 누를 번호가 담긴 배열 numbers, 왼손잡이인지 오른손잡이인 지를 나타내는 문자열 hand가 매개변수로 주어질 때, 각 번호를 누른 엄지손가락이 왼손인 지 오른손인 지를 나타내는 연속된 문자열 형태로 return 하도록 solution 함수를 완성해주세요.\n",
    "\n"
   ]
  },
  {
   "cell_type": "code",
   "execution_count": 62,
   "metadata": {},
   "outputs": [],
   "source": [
    "# 나의 방법\n",
    "# 튜플을 이용해서 각각 이동거리를 계산한다. \n",
    "def solution(numbers, hand):\n",
    "    place = {1:(0,0), 2:(0,1), 3:(0,2), 4:(1,0), 5:(1,1), 6:(1,2), 7:(2,0), 8:(2,1) , 9:(2,2), 0:(3,1) }\n",
    "    left_place = (3,0)\n",
    "    right_place = (3,2)\n",
    "    result = ''\n",
    "    for num in numbers:\n",
    "        if num in (1, 4, 7):\n",
    "            result += 'L'\n",
    "            left_place = place.get(num)\n",
    "\n",
    "        elif num in (3, 6, 9):\n",
    "            result += 'R'\n",
    "            right_place = place.get(num)\n",
    "\n",
    "        elif num in (2,5,8,0):\n",
    "            key = place.get(num)\n",
    "\n",
    "            left_cnt = abs(left_place[0] - key[0]) + abs(left_place[1] - key[1])\n",
    "            right_cnt = abs(right_place[0] - key[0]) + abs(right_place[1] - key[1])\n",
    "\n",
    "            if left_cnt < right_cnt:\n",
    "                left_place = place.get(num)\n",
    "                result += 'L'\n",
    "\n",
    "            elif left_cnt > right_cnt:\n",
    "                right_place = place.get(num)\n",
    "                result += 'R'\n",
    "\n",
    "            else :\n",
    "                if hand == 'left':\n",
    "                    left_place = place.get(num)\n",
    "                    result += 'L'\n",
    "\n",
    "                if hand == 'right':\n",
    "                    right_place = place.get(num)\n",
    "                    result += 'R'\n",
    "    return result"
   ]
  },
  {
   "cell_type": "code",
   "execution_count": null,
   "metadata": {},
   "outputs": [],
   "source": [
    "numbers = [1, 3, 4, 5, 8, 2, 1, 4, 5, 9, 5]\n",
    "hand = 'right'"
   ]
  }
 ],
 "metadata": {
  "kernelspec": {
   "display_name": "Python 3",
   "language": "python",
   "name": "python3"
  },
  "language_info": {
   "codemirror_mode": {
    "name": "ipython",
    "version": 3
   },
   "file_extension": ".py",
   "mimetype": "text/x-python",
   "name": "python",
   "nbconvert_exporter": "python",
   "pygments_lexer": "ipython3",
   "version": "3.8.5"
  }
 },
 "nbformat": 4,
 "nbformat_minor": 4
}
