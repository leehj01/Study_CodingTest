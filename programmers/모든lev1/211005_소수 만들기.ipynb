{
 "cells": [
  {
   "cell_type": "code",
   "execution_count": null,
   "metadata": {},
   "outputs": [],
   "source": [
    "import itertools\n",
    "\n",
    "def solution(nums):\n",
    "    temp = list(itertools.combinations(nums, 3))\n",
    "    sum_list = list(map(lambda x: sum(x), temp))\n",
    "    \n",
    "    answer_list = []\n",
    "    for num in sum_list:\n",
    "        num_2 = num // 2 + 1\n",
    "        for n in range(2, num_2):\n",
    "            if num % n == 0:\n",
    "                answer_list.append(num)\n",
    "                break\n",
    "    answer = len(sum_list) - len(answer_list)\n",
    "                \n",
    "            \n",
    "    return answer"
   ]
  },
  {
   "cell_type": "code",
   "execution_count": null,
   "metadata": {},
   "outputs": [],
   "source": [
    "# 다른 사람 답변\n",
    "\n",
    "# 나는 나누기를 이용해서 반만 구했는데, 그냥 제곱근을 해도된다라는 사실을 잊지 말자. \n",
    "# append()를 하지 않고, 그냥 더한다음에 최종적으로 값이 1이 있으면 1, 아니면 0을 반환하게끔 해주었다.\n",
    "\n",
    "from itertools import combinations\n",
    "def prime_number(x):\n",
    "    answer = 0\n",
    "    for i in range(1,int(x**0.5)+1):\n",
    "        if x%i==0:\n",
    "            answer+=1\n",
    "    return 1 if answer==1 else 0\n",
    "\n",
    "def solution(nums):\n",
    "    return sum([prime_number(sum(c)) for c in combinations(nums,3)])"
   ]
  }
 ],
 "metadata": {
  "kernelspec": {
   "display_name": "Python 3",
   "language": "python",
   "name": "python3"
  },
  "language_info": {
   "codemirror_mode": {
    "name": "ipython",
    "version": 3
   },
   "file_extension": ".py",
   "mimetype": "text/x-python",
   "name": "python",
   "nbconvert_exporter": "python",
   "pygments_lexer": "ipython3",
   "version": "3.7.6"
  }
 },
 "nbformat": 4,
 "nbformat_minor": 4
}
