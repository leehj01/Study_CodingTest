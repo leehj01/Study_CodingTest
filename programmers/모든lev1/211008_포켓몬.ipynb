{
 "cells": [
  {
   "cell_type": "code",
   "execution_count": null,
   "metadata": {},
   "outputs": [],
   "source": [
    "\n",
    "def solution(nums):\n",
    "    answer = 0\n",
    "    length = len(nums) // 2\n",
    "    nums.sort()\n",
    "    last = 0\n",
    "    \n",
    "    for value in nums :\n",
    "        if(value != last and answer < length):\n",
    "            answer +=1\n",
    "            last = value\n",
    "            \n",
    "    return answer\n",
    "    "
   ]
  }
 ],
 "metadata": {
  "kernelspec": {
   "display_name": "Python 3",
   "language": "python",
   "name": "python3"
  },
  "language_info": {
   "codemirror_mode": {
    "name": "ipython",
    "version": 3
   },
   "file_extension": ".py",
   "mimetype": "text/x-python",
   "name": "python",
   "nbconvert_exporter": "python",
   "pygments_lexer": "ipython3",
   "version": "3.7.6"
  }
 },
 "nbformat": 4,
 "nbformat_minor": 4
}
