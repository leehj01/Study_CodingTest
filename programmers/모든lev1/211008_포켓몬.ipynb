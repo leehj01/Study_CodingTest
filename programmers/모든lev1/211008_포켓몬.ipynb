{
 "cells": [
  {
   "cell_type": "markdown",
   "metadata": {},
   "source": [
    "당신은 폰켓몬을 잡기 위한 오랜 여행 끝에, 홍 박사님의 연구실에 도착했습니다.\n",
    "홍 박사님은 당신에게 자신의 연구실에 있는 총 N 마리의 폰켓몬 중에서 N/2마리를 가져가도 좋다고 했습니다.\n",
    "홍 박사님 연구실의 폰켓몬은 종류에 따라 번호를 붙여 구분합니다. 따라서 같은 종류의 폰켓몬은 같은 번호를 가지고 있습니다. 예를 들어 연구실에 총 4마리의 폰켓몬이 있고, 각 폰켓몬의 종류 번호가 [3번, 1번, 2번, 3번]이라면 이는 3번 폰켓몬 두 마리, 1번 폰켓몬 한 마리, 2번 폰켓몬 한 마리가 있음을 나타냅니다. 이때, 4마리의 폰켓몬 중 2마리를 고르는 방법은 다음과 같이 6가지가 있습니다."
   ]
  },
  {
   "cell_type": "code",
   "execution_count": 111,
   "metadata": {},
   "outputs": [],
   "source": [
    "from itertools import combinations\n",
    "def my_solution(nums):\n",
    "    cnt = len(nums) // 2\n",
    "    comb = list(combinations(nums, cnt))   \n",
    "    return max([len(set(i)) for i in comb])\n",
    "\n",
    "# 위의 코드로 구현하면, 실현은 되지만, 실행시간이 초과된다. combination을 쓰면 안된다."
   ]
  },
  {
   "cell_type": "code",
   "execution_count": 112,
   "metadata": {},
   "outputs": [
    {
     "data": {
      "text/plain": [
       "3"
      ]
     },
     "execution_count": 112,
     "metadata": {},
     "output_type": "execute_result"
    }
   ],
   "source": [
    "nums =[3,3,3,2,2,4]\n",
    "solution(nums)"
   ]
  },
  {
   "cell_type": "code",
   "execution_count": null,
   "metadata": {},
   "outputs": [],
   "source": [
    "# 여기선 단순히 더 쉬운 방법으로 접근할 수 있으므로, 이렇게 한다.\n",
    "def my_solution(nums):\n",
    "    cnt = len(nums) // 2\n",
    "    set_length = len(set(nums))\n",
    "\n",
    "    if cnt > set_length:\n",
    "        answer = set_length\n",
    "    else:\n",
    "        answer = cnt\n",
    "    return answer"
   ]
  },
  {
   "cell_type": "code",
   "execution_count": 121,
   "metadata": {},
   "outputs": [],
   "source": [
    "# 위의 코드를 min을 이용해 더 간단하게 구현한 것이다.\n",
    "# 다른사람 코드 1 \n",
    "def solution(ls):\n",
    "    return min(len(ls)/2, len(set(ls)))"
   ]
  }
 ],
 "metadata": {
  "kernelspec": {
   "display_name": "Python 3",
   "language": "python",
   "name": "python3"
  },
  "language_info": {
   "codemirror_mode": {
    "name": "ipython",
    "version": 3
   },
   "file_extension": ".py",
   "mimetype": "text/x-python",
   "name": "python",
   "nbconvert_exporter": "python",
   "pygments_lexer": "ipython3",
   "version": "3.7.6"
  }
 },
 "nbformat": 4,
 "nbformat_minor": 4
}
