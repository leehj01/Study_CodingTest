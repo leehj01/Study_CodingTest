{
 "cells": [
  {
   "cell_type": "markdown",
   "metadata": {},
   "source": [
    "문제 설명\n",
    "- 프로그래머스 팀에서는 기능 개선 작업을 수행 중입니다. 각 기능은 진도가 100%일 때 서비스에 반영할 수 있습니다.\n",
    "\n",
    "또, 각 기능의 개발속도는 모두 다르기 때문에 뒤에 있는 기능이 앞에 있는 기능보다 먼저 개발될 수 있고, 이때 뒤에 있는 기능은 앞에 있는 기능이 배포될 때 함께 배포됩니다.\n",
    "\n",
    "- 먼저 배포되어야 하는 순서대로 작업의 진도가 적힌 정수 배열 progresses와 각 작업의 개발 속도가 적힌 정수 배열 speeds가 주어질 때 각 배포마다 몇 개의 기능이 배포되는지를 return 하도록 solution 함수를 완성하세요.\n",
    "\n",
    "제한 사항\n",
    "작업의 개수(progresses, speeds배열의 길이)는 100개 이하입니다.\n",
    "작업 진도는 100 미만의 자연수입니다.\n",
    "작업 속도는 100 이하의 자연수입니다.\n",
    "배포는 하루에 한 번만 할 수 있으며, 하루의 끝에 이루어진다고 가정합니다. 예를 들어 진도율이 95%인 작업의 개발 속도가 하루에 4%라면 배포는 2일 뒤에 이루어집니다."
   ]
  },
  {
   "cell_type": "code",
   "execution_count": 1,
   "metadata": {},
   "outputs": [],
   "source": [
    "progresses = [93, 30, 55]\n",
    "speeds = [1, 30, 5]"
   ]
  },
  {
   "cell_type": "code",
   "execution_count": 8,
   "metadata": {},
   "outputs": [],
   "source": [
    "def mtion(progresses, speeds):\n",
    "    prog_sp_list = list(zip(progresses, speeds))\n",
    "    return_list = []\n",
    "    progresses_temp = []\n",
    "    cnt = 0\n",
    "\n",
    "    while prog_sp_list:\n",
    "\n",
    "        if prog_sp_list[0][0] >= 100:\n",
    "            cnt += 1\n",
    "            prog_sp_list.pop(0)\n",
    "\n",
    "        else:\n",
    "            for pro, sp in prog_sp_list:\n",
    "                cnt = 0\n",
    "                pro += sp\n",
    "                progresses_temp.append((pro, sp))\n",
    "\n",
    "            prog_sp_list = progresses_temp\n",
    "\n",
    "        progresses_temp = []\n",
    "        return_list.append(cnt)\n",
    "            \n",
    "    compare_num = 0\n",
    "    result_list = []\n",
    "    for t in return_list:\n",
    "        if max(t, compare_num) != compare_num:\n",
    "            compare_num = max(t, compare_num)\n",
    "        elif compare_num != 0:\n",
    "            result_list.append(compare_num)\n",
    "            compare_num = 0\n",
    "    if compare_num != 0:\n",
    "        result_list.append(compare_num)\n",
    "    return result_list"
   ]
  },
  {
   "cell_type": "code",
   "execution_count": 9,
   "metadata": {},
   "outputs": [
    {
     "data": {
      "text/plain": [
       "[0, 0, 0, 0, 0, 0, 0, 0, 0, 1]"
      ]
     },
     "execution_count": 9,
     "metadata": {},
     "output_type": "execute_result"
    }
   ],
   "source": [
    "my_solution(progresses, speeds)"
   ]
  },
  {
   "cell_type": "markdown",
   "metadata": {},
   "source": [
    "### 남의 코드"
   ]
  },
  {
   "cell_type": "markdown",
   "metadata": {},
   "source": [
    "1) count, time 변수를 설정해둔다. \n",
    "\n",
    "2) 첫번째가 100이 될때까지 loop 를 돌며 time 을 늘린다. \n",
    "\n",
    "    else --> time+=1\n",
    "\n",
    "3) (time =7) 이 되면  첫번째 값이(93) 100이 되어 if에 따라 pop 되고 count +=1\n",
    "\n",
    "4) 현재 time 이 7이기 때문에 두번째 값(30)도 if에 따라 pop 되고 count +=1 \n",
    "\n",
    "5) 세번째 값은 100이 안되기 때문에 loop를 돌며 time 을 늘리는데 \n",
    "\n",
    "    2) 번과 달리 그전에 완성된 친구들 count 값이 있기 때문에 이 친구들을 출시해줘야함 \n",
    "\n",
    "        따라서 answer 리스트에 append하고 count 초기화!!! \n",
    "\n",
    "    그후에 loop를 돌며 time 을 늘리는데 \n",
    "\n",
    "6) 세번째 값(55)이 100을 넘으면 count +=1 하고 \n",
    "\n",
    "    이 count 를 다시한번 answer 리스트에 append 해줌으로써 마지막 제품까지 출시 ! "
   ]
  },
  {
   "cell_type": "markdown",
   "metadata": {},
   "source": [
    "- 내코드에 비해 매우 굉장히 짧게 짰다.\n",
    "1) time 을 곱하는 식으로 해서, for문을 최소화 했다. "
   ]
  },
  {
   "cell_type": "code",
   "execution_count": null,
   "metadata": {},
   "outputs": [],
   "source": [
    "# 첫번째 코드\n",
    "def solution(progresses, speeds):\n",
    "\n",
    "    answer = []\n",
    "    time = 0\n",
    "    count = 0\n",
    "    \n",
    "    while len(progresses)> 0:\n",
    "        if (progresses[0] + time*speeds[0]) >= 100: \n",
    "            progresses.pop(0)\n",
    "            speeds.pop(0)\n",
    "            count += 1\n",
    "            \n",
    "        else:\n",
    "            if count > 0:\n",
    "                answer.append(count)\n",
    "                count = 0\n",
    "            time += 1\n",
    "    answer.append(count)\n",
    "    return answer"
   ]
  },
  {
   "cell_type": "code",
   "execution_count": null,
   "metadata": {},
   "outputs": [],
   "source": []
  },
  {
   "cell_type": "code",
   "execution_count": null,
   "metadata": {},
   "outputs": [],
   "source": [
    "# 두번째 코드\n",
    "import math\n",
    "\n",
    "\n",
    "def solution(progresses, speeds):\n",
    "    progresses = [math.ceil((100 - a) / b) for a, b in zip(progresses, speeds)]\n",
    "    answer = []\n",
    "    front = 0, 0\n",
    "\n",
    "    for idx in range(len(progresses)):\n",
    "        if progresses[idx] > progresses[front]:  \n",
    "            answer.append(idx - front)\n",
    "            front = idx \n",
    "    answer.append(len(progresses) - front)  \n",
    "\n",
    "    return answer"
   ]
  },
  {
   "cell_type": "code",
   "execution_count": null,
   "metadata": {},
   "outputs": [],
   "source": []
  }
 ],
 "metadata": {
  "kernelspec": {
   "display_name": "Python 3",
   "language": "python",
   "name": "python3"
  },
  "language_info": {
   "codemirror_mode": {
    "name": "ipython",
    "version": 3
   },
   "file_extension": ".py",
   "mimetype": "text/x-python",
   "name": "python",
   "nbconvert_exporter": "python",
   "pygments_lexer": "ipython3",
   "version": "3.8.5"
  }
 },
 "nbformat": 4,
 "nbformat_minor": 4
}
