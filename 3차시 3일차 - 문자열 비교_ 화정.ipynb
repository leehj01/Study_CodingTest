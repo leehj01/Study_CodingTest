{
 "cells": [
  {
   "cell_type": "markdown",
   "metadata": {},
   "source": [
    "\n",
    " \n",
    "\n",
    "두 개의 문자열 str1과 str2가 주어진다. 문자열 str2 안에 str1과 일치하는 부분이 있는지 찾는 프로그램을 만드시오.\n",
    "\n",
    "예를 들어 두 개의 문자열이 다음과 같이 주어질 때, 첫 문자열이 두번째에 존재하면 1, 존재하지 않으면 0을 출력한다.\n",
    " \n",
    "\n",
    "ABC\n",
    "\n",
    "ZZZZZABCZZZZZ\n",
    "\n",
    "두번째 문자열에 첫번째 문자열과 일치하는 부분이 있으므로 1을 출력.\n",
    " \n",
    "\n",
    "ABC\n",
    "\n",
    "ZZZZAZBCZZZZZ\n",
    "\n",
    "문자열이 일치하지 않으므로 0을 출력.\n",
    "\n",
    " \n",
    " \n",
    "\n",
    "[입력]\n",
    " \n",
    "\n",
    "첫 줄에 테스트 케이스 개수 T가 주어진다.  (1≤T≤50)\n",
    " \n",
    "\n",
    "다음 줄부터 테스트 케이스 별로 길이가 N인 문자열 str1과 길이가 M인 str2가 각각 다른 줄에 주어집니다. (5≤N≤100, 10≤M≤1000, N≤M)\n",
    "\n",
    " \n",
    "\n",
    "[출력]\n",
    " \n",
    "\n",
    "각 줄마다 \"#T\" (T는 테스트 케이스 번호)를 출력한 뒤, 답을 출력한다.\n",
    "#1 1\n",
    "#2 0\n",
    "#3 1\n"
   ]
  },
  {
   "cell_type": "code",
   "execution_count": 25,
   "metadata": {},
   "outputs": [
    {
     "name": "stdout",
     "output_type": "stream",
     "text": [
      "3\n",
      "XYPV\n",
      "EOGGXYPVSY\n",
      "#1 1\n",
      "STJJ\n",
      "HOFSTJPVPP\n",
      "#2 0\n",
      "ZYJZXZTIBSDG\n",
      "TTXGZYJZXZTIBSDGWQLW\n",
      "#3 1\n"
     ]
    }
   ],
   "source": [
    "T = int(input())\n",
    "\n",
    "\n",
    "for test_case in range(1, T + 1):\n",
    "    c = input()\n",
    "    ch = input()\n",
    "    cnt = 0 \n",
    "    \n",
    "    for i in range(len(ch)):       \n",
    "        if ch[i:i+len(c)] ==  c:   #  같은것 있으면 카운트 해주기  \n",
    "            cnt += 1\n",
    "        else :\n",
    "            cnt += 0\n",
    "            \n",
    "    print(\"#{} {}\".format(test_case, cnt))\n",
    "            \n",
    "    "
   ]
  },
  {
   "cell_type": "code",
   "execution_count": null,
   "metadata": {},
   "outputs": [],
   "source": []
  },
  {
   "cell_type": "code",
   "execution_count": null,
   "metadata": {},
   "outputs": [],
   "source": []
  }
 ],
 "metadata": {
  "kernelspec": {
   "display_name": "Python 3",
   "language": "python",
   "name": "python3"
  },
  "language_info": {
   "codemirror_mode": {
    "name": "ipython",
    "version": 3
   },
   "file_extension": ".py",
   "mimetype": "text/x-python",
   "name": "python",
   "nbconvert_exporter": "python",
   "pygments_lexer": "ipython3",
   "version": "3.7.6"
  }
 },
 "nbformat": 4,
 "nbformat_minor": 4
}
